{
  "nbformat": 4,
  "nbformat_minor": 0,
  "metadata": {
    "colab": {
      "name": "Numpy",
      "provenance": [],
      "collapsed_sections": [
        "d5MFHXnip4hh"
      ],
      "authorship_tag": "ABX9TyO024Ts8tynasB7JqWAm39P",
      "include_colab_link": true
    },
    "kernelspec": {
      "name": "python3",
      "display_name": "Python 3"
    },
    "language_info": {
      "name": "python"
    }
  },
  "cells": [
    {
      "cell_type": "markdown",
      "metadata": {
        "id": "view-in-github",
        "colab_type": "text"
      },
      "source": [
        "<a href=\"https://colab.research.google.com/github/paras-aghija/python-DS/blob/main/Numpy.ipynb\" target=\"_parent\"><img src=\"https://colab.research.google.com/assets/colab-badge.svg\" alt=\"Open In Colab\"/></a>"
      ]
    },
    {
      "cell_type": "markdown",
      "metadata": {
        "id": "E3bTeFYZevy8"
      },
      "source": [
        "# NUMPY"
      ]
    },
    {
      "cell_type": "code",
      "metadata": {
        "id": "c2xYnafNiI36"
      },
      "source": [
        "import numpy as np"
      ],
      "execution_count": 2,
      "outputs": []
    },
    {
      "cell_type": "markdown",
      "metadata": {
        "id": "d5MFHXnip4hh"
      },
      "source": [
        "### Numpy Basics\n"
      ]
    },
    {
      "cell_type": "code",
      "metadata": {
        "colab": {
          "base_uri": "https://localhost:8080/"
        },
        "id": "l0crV3fCiKjP",
        "outputId": "31e28281-23b5-49e8-fc83-34a49b73cfa0"
      },
      "source": [
        "a = np.array([1,2,3,4,5,6])\n",
        "print(a)\n",
        "print(type(a))\n",
        "print(a.shape)"
      ],
      "execution_count": 6,
      "outputs": [
        {
          "output_type": "stream",
          "name": "stdout",
          "text": [
            "[1 2 3 4 5 6]\n",
            "<class 'numpy.ndarray'>\n",
            "(6,)\n"
          ]
        }
      ]
    },
    {
      "cell_type": "code",
      "metadata": {
        "colab": {
          "base_uri": "https://localhost:8080/"
        },
        "id": "5mOvZP3RnTsP",
        "outputId": "8c4fe92f-de37-4137-e7b4-51b46f4358b0"
      },
      "source": [
        "b = np.array([[1,1],[2,2],[3,3],[4,4],[5,5]])\n",
        "print(b)\n",
        "print(b.shape)\n",
        "print(b[1][1])"
      ],
      "execution_count": 11,
      "outputs": [
        {
          "output_type": "stream",
          "name": "stdout",
          "text": [
            "[[1 1]\n",
            " [2 2]\n",
            " [3 3]\n",
            " [4 4]\n",
            " [5 5]]\n",
            "(5, 2)\n",
            "2\n"
          ]
        }
      ]
    },
    {
      "cell_type": "code",
      "metadata": {
        "colab": {
          "base_uri": "https://localhost:8080/"
        },
        "id": "dI9CpF89nRBc",
        "outputId": "17307a15-18e8-47e9-f33c-3cbca18f60c1"
      },
      "source": [
        "z = np.zeros((3,3))\n",
        "print(z)\n",
        "print(type(z))"
      ],
      "execution_count": 12,
      "outputs": [
        {
          "output_type": "stream",
          "name": "stdout",
          "text": [
            "[[0. 0. 0.]\n",
            " [0. 0. 0.]\n",
            " [0. 0. 0.]]\n",
            "<class 'numpy.ndarray'>\n"
          ]
        }
      ]
    },
    {
      "cell_type": "code",
      "metadata": {
        "colab": {
          "base_uri": "https://localhost:8080/"
        },
        "id": "ta2Cs6xHoRlT",
        "outputId": "87cd86dc-7d67-4648-a5a2-2a20be5e156f"
      },
      "source": [
        "o = np.ones((4,5))\n",
        "print(o)\n",
        "print(type(o))"
      ],
      "execution_count": 13,
      "outputs": [
        {
          "output_type": "stream",
          "name": "stdout",
          "text": [
            "[[1. 1. 1. 1. 1.]\n",
            " [1. 1. 1. 1. 1.]\n",
            " [1. 1. 1. 1. 1.]\n",
            " [1. 1. 1. 1. 1.]]\n",
            "<class 'numpy.ndarray'>\n"
          ]
        }
      ]
    },
    {
      "cell_type": "code",
      "metadata": {
        "colab": {
          "base_uri": "https://localhost:8080/"
        },
        "id": "AytKiVXEoYsV",
        "outputId": "8cc517ad-b7e9-41fa-eaac-2c0f720c817c"
      },
      "source": [
        "c = np.full((3,4), 7, int)\n",
        "print(c)"
      ],
      "execution_count": 14,
      "outputs": [
        {
          "output_type": "stream",
          "name": "stdout",
          "text": [
            "[[7 7 7 7]\n",
            " [7 7 7 7]\n",
            " [7 7 7 7]]\n"
          ]
        }
      ]
    },
    {
      "cell_type": "code",
      "metadata": {
        "colab": {
          "base_uri": "https://localhost:8080/"
        },
        "id": "xyMQVEsapI2n",
        "outputId": "814113bc-26ed-4fda-89bc-16ad59eded8f"
      },
      "source": [
        "# identity matrix\n",
        "d = np.eye(4,dtype=int)\n",
        "print(d)"
      ],
      "execution_count": 17,
      "outputs": [
        {
          "output_type": "stream",
          "name": "stdout",
          "text": [
            "[[1 0 0 0]\n",
            " [0 1 0 0]\n",
            " [0 0 1 0]\n",
            " [0 0 0 1]]\n"
          ]
        }
      ]
    },
    {
      "cell_type": "code",
      "metadata": {
        "colab": {
          "base_uri": "https://localhost:8080/"
        },
        "id": "MjV1NlmMpRG2",
        "outputId": "239f1ba1-328d-479b-d26d-eea21e49eb60"
      },
      "source": [
        "# random matrix\n",
        "r = np.random.random((2,3))\n",
        "print(r)\n",
        "print(r[1][2])\n",
        "print(r[0,1])"
      ],
      "execution_count": 21,
      "outputs": [
        {
          "output_type": "stream",
          "name": "stdout",
          "text": [
            "[[0.23082667 0.48558717 0.8186255 ]\n",
            " [0.55224085 0.06029013 0.85298065]]\n",
            "0.8529806545835911\n",
            "0.48558716579921823\n"
          ]
        }
      ]
    },
    {
      "cell_type": "code",
      "metadata": {
        "colab": {
          "base_uri": "https://localhost:8080/"
        },
        "id": "a1gX_l80q8zC",
        "outputId": "f3d6b14b-59ba-4ae1-b8a1-940df41aca2b"
      },
      "source": [
        "x = np.random.random((4,5))\n",
        "print(x)\n",
        "print()\n",
        "print(x[ : , 2 ])\n",
        "print(x[ 3, : ])"
      ],
      "execution_count": 26,
      "outputs": [
        {
          "output_type": "stream",
          "name": "stdout",
          "text": [
            "[[0.41026939 0.30087661 0.47962824 0.05161657 0.31322846]\n",
            " [0.72264261 0.38352044 0.89277241 0.09389427 0.92609322]\n",
            " [0.53970748 0.01170135 0.95392123 0.10546352 0.70581922]\n",
            " [0.10713726 0.87099263 0.04733133 0.51184236 0.8665779 ]]\n",
            "\n",
            "[0.47962824 0.89277241 0.95392123 0.04733133]\n",
            "[0.10713726 0.87099263 0.04733133 0.51184236 0.8665779 ]\n"
          ]
        }
      ]
    },
    {
      "cell_type": "code",
      "metadata": {
        "colab": {
          "base_uri": "https://localhost:8080/"
        },
        "id": "2J8U1zi3rUZV",
        "outputId": "0d1d6fde-2aeb-4536-8f7b-b57a3701366f"
      },
      "source": [
        "x[2, 3:] = 1\n",
        "print(x)"
      ],
      "execution_count": 28,
      "outputs": [
        {
          "output_type": "stream",
          "name": "stdout",
          "text": [
            "[[0.41026939 0.30087661 0.47962824 0.05161657 0.31322846]\n",
            " [0.72264261 0.38352044 0.89277241 0.09389427 0.92609322]\n",
            " [0.53970748 0.01170135 0.95392123 1.         1.        ]\n",
            " [0.10713726 0.87099263 0.04733133 0.51184236 0.8665779 ]]\n"
          ]
        }
      ]
    },
    {
      "cell_type": "code",
      "metadata": {
        "colab": {
          "base_uri": "https://localhost:8080/"
        },
        "id": "X5TPFdGysV3A",
        "outputId": "2e573982-59f2-4a38-9758-083e867b56fa"
      },
      "source": [
        "y = np.zeros((3,3), dtype = np.int64)\n",
        "print(z)\n",
        "y[1,:] = 5\n",
        "y[:, -1] = 7\n",
        "print(y)"
      ],
      "execution_count": 31,
      "outputs": [
        {
          "output_type": "stream",
          "name": "stdout",
          "text": [
            "[[0. 0. 0.]\n",
            " [0. 0. 0.]\n",
            " [0. 0. 0.]]\n",
            "[[0 0 7]\n",
            " [5 5 7]\n",
            " [0 0 7]]\n"
          ]
        }
      ]
    },
    {
      "cell_type": "code",
      "metadata": {
        "colab": {
          "base_uri": "https://localhost:8080/"
        },
        "id": "yIOhLVuiszOc",
        "outputId": "1f3eb0fb-b811-4544-eee0-535f86a2095b"
      },
      "source": [
        "print(y.dtype)"
      ],
      "execution_count": 32,
      "outputs": [
        {
          "output_type": "stream",
          "name": "stdout",
          "text": [
            "int64\n"
          ]
        }
      ]
    },
    {
      "cell_type": "code",
      "metadata": {
        "colab": {
          "base_uri": "https://localhost:8080/"
        },
        "id": "Ynto2OMes7LF",
        "outputId": "d847e58a-7154-435b-a942-09910c6de798"
      },
      "source": [
        "x = np.array([[1,2], [3,4]])\n",
        "y = np.array([[5,6], [7,8]])\n",
        "print(x+y)\n",
        "print(np.add(x,y))"
      ],
      "execution_count": 33,
      "outputs": [
        {
          "output_type": "stream",
          "name": "stdout",
          "text": [
            "[[ 6  8]\n",
            " [10 12]]\n",
            "[[ 6  8]\n",
            " [10 12]]\n"
          ]
        }
      ]
    },
    {
      "cell_type": "code",
      "metadata": {
        "colab": {
          "base_uri": "https://localhost:8080/"
        },
        "id": "sAFpjkBwtblg",
        "outputId": "a2ae274b-ed94-42df-e93e-fd84939d6aa7"
      },
      "source": [
        "print(x-y)"
      ],
      "execution_count": 34,
      "outputs": [
        {
          "output_type": "stream",
          "name": "stdout",
          "text": [
            "[[-4 -4]\n",
            " [-4 -4]]\n"
          ]
        }
      ]
    },
    {
      "cell_type": "code",
      "metadata": {
        "colab": {
          "base_uri": "https://localhost:8080/"
        },
        "id": "OY3e23dLtenJ",
        "outputId": "89fafb79-53c7-45d7-d38f-cc5bebbedbdd"
      },
      "source": [
        "print(x*y)\n",
        "# not dot product"
      ],
      "execution_count": 38,
      "outputs": [
        {
          "output_type": "stream",
          "name": "stdout",
          "text": [
            "[[ 5 12]\n",
            " [21 32]]\n"
          ]
        }
      ]
    },
    {
      "cell_type": "code",
      "metadata": {
        "colab": {
          "base_uri": "https://localhost:8080/"
        },
        "id": "AKeGyEjHtgPT",
        "outputId": "0363a9fa-3b2a-43c9-e835-aa9a4ed3b084"
      },
      "source": [
        "print(x/y)"
      ],
      "execution_count": 39,
      "outputs": [
        {
          "output_type": "stream",
          "name": "stdout",
          "text": [
            "[[0.2        0.33333333]\n",
            " [0.42857143 0.5       ]]\n"
          ]
        }
      ]
    },
    {
      "cell_type": "code",
      "metadata": {
        "colab": {
          "base_uri": "https://localhost:8080/"
        },
        "id": "jW7aXgdBtoDS",
        "outputId": "c500f3a0-c0d2-4a34-b696-9259c0f0db38"
      },
      "source": [
        "print(np.sqrt(y))"
      ],
      "execution_count": 40,
      "outputs": [
        {
          "output_type": "stream",
          "name": "stdout",
          "text": [
            "[[2.23606798 2.44948974]\n",
            " [2.64575131 2.82842712]]\n"
          ]
        }
      ]
    },
    {
      "cell_type": "code",
      "metadata": {
        "colab": {
          "base_uri": "https://localhost:8080/"
        },
        "id": "toc5p_U7tsAC",
        "outputId": "af5621fb-867d-4c25-dee7-8ac307d48a4d"
      },
      "source": [
        "# Matrix multiplication\n",
        "print(x)\n",
        "print(y)"
      ],
      "execution_count": 41,
      "outputs": [
        {
          "output_type": "stream",
          "name": "stdout",
          "text": [
            "[[1 2]\n",
            " [3 4]]\n",
            "[[5 6]\n",
            " [7 8]]\n"
          ]
        }
      ]
    },
    {
      "cell_type": "code",
      "metadata": {
        "colab": {
          "base_uri": "https://localhost:8080/"
        },
        "id": "oIx73Z5jt1-S",
        "outputId": "8e96d746-c673-4bc9-f18a-ee950aaf1667"
      },
      "source": [
        "print(x.dot(y))\n",
        "print(np.dot(x,y))"
      ],
      "execution_count": 42,
      "outputs": [
        {
          "output_type": "stream",
          "name": "stdout",
          "text": [
            "[[19 22]\n",
            " [43 50]]\n",
            "[[19 22]\n",
            " [43 50]]\n"
          ]
        }
      ]
    },
    {
      "cell_type": "code",
      "metadata": {
        "colab": {
          "base_uri": "https://localhost:8080/"
        },
        "id": "rc08RFB0t6ha",
        "outputId": "9871f894-b1ba-4007-9040-e862b6a4161c"
      },
      "source": [
        "# dot multiplication of vectors\n",
        "\n",
        "a = np.array([1,2,3,4])\n",
        "b = np.array([1,2,3,4])\n",
        "print(a.dot(b))"
      ],
      "execution_count": 3,
      "outputs": [
        {
          "output_type": "stream",
          "name": "stdout",
          "text": [
            "30\n"
          ]
        }
      ]
    },
    {
      "cell_type": "code",
      "metadata": {
        "colab": {
          "base_uri": "https://localhost:8080/"
        },
        "id": "xRWi0138VzsN",
        "outputId": "2cbd47ae-0dd2-4678-9984-0bd97ee4de73"
      },
      "source": [
        "print(sum(a))"
      ],
      "execution_count": 4,
      "outputs": [
        {
          "output_type": "stream",
          "name": "stdout",
          "text": [
            "10\n"
          ]
        }
      ]
    },
    {
      "cell_type": "code",
      "metadata": {
        "colab": {
          "base_uri": "https://localhost:8080/"
        },
        "id": "le_V7znWlGWI",
        "outputId": "3e45b08a-a614-4ba9-c397-235c23c3e437"
      },
      "source": [
        "x = np.array([[1,2], [3,4]])\n",
        "print(x)\n",
        "print(np.sum(x))"
      ],
      "execution_count": 6,
      "outputs": [
        {
          "output_type": "stream",
          "name": "stdout",
          "text": [
            "[[1 2]\n",
            " [3 4]]\n",
            "10\n"
          ]
        }
      ]
    },
    {
      "cell_type": "code",
      "metadata": {
        "colab": {
          "base_uri": "https://localhost:8080/"
        },
        "id": "ZgGTylT6lI3H",
        "outputId": "3ce2aaf5-8df4-40cd-e365-30555cbfba77"
      },
      "source": [
        "print(np.sum(x, axis=0))"
      ],
      "execution_count": 7,
      "outputs": [
        {
          "output_type": "stream",
          "name": "stdout",
          "text": [
            "[4 6]\n"
          ]
        }
      ]
    },
    {
      "cell_type": "code",
      "metadata": {
        "colab": {
          "base_uri": "https://localhost:8080/"
        },
        "id": "4I-M_WnUlbdp",
        "outputId": "7cad94d8-015f-4cb3-ec79-89772fc598ac"
      },
      "source": [
        "print(np.sum(x, axis=1))"
      ],
      "execution_count": 8,
      "outputs": [
        {
          "output_type": "stream",
          "name": "stdout",
          "text": [
            "[3 7]\n"
          ]
        }
      ]
    },
    {
      "cell_type": "code",
      "metadata": {
        "colab": {
          "base_uri": "https://localhost:8080/"
        },
        "id": "EUkS005plfbs",
        "outputId": "543a9aa7-503a-4575-c653-69362fdfed36"
      },
      "source": [
        "# stacking of arrays\n",
        "print(a)\n",
        "b**=2\n",
        "print(b)"
      ],
      "execution_count": 9,
      "outputs": [
        {
          "output_type": "stream",
          "name": "stdout",
          "text": [
            "[1 2 3 4]\n",
            "[ 1  4  9 16]\n"
          ]
        }
      ]
    },
    {
      "cell_type": "code",
      "metadata": {
        "colab": {
          "base_uri": "https://localhost:8080/"
        },
        "id": "cdh5ltBqnQol",
        "outputId": "ee93e43f-1584-40f9-8d20-42be7223a33e"
      },
      "source": [
        "np.stack((a,b), axis=1)"
      ],
      "execution_count": 10,
      "outputs": [
        {
          "output_type": "execute_result",
          "data": {
            "text/plain": [
              "array([[ 1,  1],\n",
              "       [ 2,  4],\n",
              "       [ 3,  9],\n",
              "       [ 4, 16]])"
            ]
          },
          "metadata": {},
          "execution_count": 10
        }
      ]
    },
    {
      "cell_type": "code",
      "metadata": {
        "colab": {
          "base_uri": "https://localhost:8080/"
        },
        "id": "W3e9UwS-nVZQ",
        "outputId": "92061b11-3678-43ec-f4eb-173810689f3b"
      },
      "source": [
        "x = np.stack((a,b), axis=0)\n",
        "print(x)"
      ],
      "execution_count": 16,
      "outputs": [
        {
          "output_type": "stream",
          "name": "stdout",
          "text": [
            "[[ 1  2  3  4]\n",
            " [ 1  4  9 16]]\n"
          ]
        }
      ]
    },
    {
      "cell_type": "code",
      "metadata": {
        "colab": {
          "base_uri": "https://localhost:8080/"
        },
        "id": "M9W1nOAinZZF",
        "outputId": "833257b3-7331-4920-d9b5-67e1ebf48185"
      },
      "source": [
        "# reshaping arrays\n",
        "\n",
        "print(x)\n",
        "x = x.reshape((4,2))\n",
        "print(x)"
      ],
      "execution_count": 18,
      "outputs": [
        {
          "output_type": "stream",
          "name": "stdout",
          "text": [
            "[[ 1  2  3  4]\n",
            " [ 1  4  9 16]]\n",
            "[[ 1  2]\n",
            " [ 3  4]\n",
            " [ 1  4]\n",
            " [ 9 16]]\n"
          ]
        }
      ]
    },
    {
      "cell_type": "code",
      "metadata": {
        "colab": {
          "base_uri": "https://localhost:8080/"
        },
        "id": "60bnCWw-nkTV",
        "outputId": "65829340-8850-4913-b78f-156718137ee1"
      },
      "source": [
        "x.reshape((8,1))"
      ],
      "execution_count": 19,
      "outputs": [
        {
          "output_type": "execute_result",
          "data": {
            "text/plain": [
              "array([[ 1],\n",
              "       [ 2],\n",
              "       [ 3],\n",
              "       [ 4],\n",
              "       [ 1],\n",
              "       [ 4],\n",
              "       [ 9],\n",
              "       [16]])"
            ]
          },
          "metadata": {},
          "execution_count": 19
        }
      ]
    },
    {
      "cell_type": "code",
      "metadata": {
        "colab": {
          "base_uri": "https://localhost:8080/"
        },
        "id": "mI8pVZzKpmdd",
        "outputId": "4b0ef5c1-2bad-4722-f1cf-e0d846db5065"
      },
      "source": [
        "x.reshape((8,))"
      ],
      "execution_count": 20,
      "outputs": [
        {
          "output_type": "execute_result",
          "data": {
            "text/plain": [
              "array([ 1,  2,  3,  4,  1,  4,  9, 16])"
            ]
          },
          "metadata": {},
          "execution_count": 20
        }
      ]
    },
    {
      "cell_type": "code",
      "metadata": {
        "colab": {
          "base_uri": "https://localhost:8080/"
        },
        "id": "BexxWCaFppZB",
        "outputId": "4165ffaf-0682-4ab7-e8ed-771ab4536210"
      },
      "source": [
        "x.reshape((2,-1))"
      ],
      "execution_count": 21,
      "outputs": [
        {
          "output_type": "execute_result",
          "data": {
            "text/plain": [
              "array([[ 1,  2,  3,  4],\n",
              "       [ 1,  4,  9, 16]])"
            ]
          },
          "metadata": {},
          "execution_count": 21
        }
      ]
    },
    {
      "cell_type": "code",
      "metadata": {
        "colab": {
          "base_uri": "https://localhost:8080/"
        },
        "id": "BwIDq4RGpvhc",
        "outputId": "6938728d-b2a9-497e-fba8-9e603b0a25f7"
      },
      "source": [
        "x.reshape((-1,2))"
      ],
      "execution_count": 22,
      "outputs": [
        {
          "output_type": "execute_result",
          "data": {
            "text/plain": [
              "array([[ 1,  2],\n",
              "       [ 3,  4],\n",
              "       [ 1,  4],\n",
              "       [ 9, 16]])"
            ]
          },
          "metadata": {},
          "execution_count": 22
        }
      ]
    },
    {
      "cell_type": "markdown",
      "metadata": {
        "id": "eHA_SWwLpyZh"
      },
      "source": [
        "### Numpy Random Module"
      ]
    },
    {
      "cell_type": "code",
      "metadata": {
        "colab": {
          "base_uri": "https://localhost:8080/"
        },
        "id": "AqSxn3aTqFwu",
        "outputId": "18f2730c-8f18-481f-94ae-24b5290b9a8b"
      },
      "source": [
        "a = np.arange(4,11,2)\n",
        "print(a)"
      ],
      "execution_count": 5,
      "outputs": [
        {
          "output_type": "stream",
          "name": "stdout",
          "text": [
            "[ 4  6  8 10]\n"
          ]
        }
      ]
    },
    {
      "cell_type": "code",
      "metadata": {
        "id": "ah6a5L3ehDto"
      },
      "source": [
        "#seed\n",
        "np.random.seed(1)\n",
        "# stores the state of random number"
      ],
      "execution_count": 14,
      "outputs": []
    },
    {
      "cell_type": "code",
      "metadata": {
        "colab": {
          "base_uri": "https://localhost:8080/"
        },
        "id": "0S1FKtYKgEY2",
        "outputId": "3b75f9c3-bdd1-4318-8ef0-f901c16eaa6e"
      },
      "source": [
        "np.random.shuffle(a)\n",
        "print(a)"
      ],
      "execution_count": 15,
      "outputs": [
        {
          "output_type": "stream",
          "name": "stdout",
          "text": [
            "[5 7 8]\n"
          ]
        }
      ]
    },
    {
      "cell_type": "code",
      "metadata": {
        "colab": {
          "base_uri": "https://localhost:8080/"
        },
        "id": "4K-AYVIegcr0",
        "outputId": "bdbc0eb3-0ced-42d6-a9e8-c4d6cce2c2c9"
      },
      "source": [
        "a = np.random.rand(2,3)\n",
        "print(a)"
      ],
      "execution_count": 16,
      "outputs": [
        {
          "output_type": "stream",
          "name": "stdout",
          "text": [
            "[[7.20324493e-01 1.14374817e-04 3.02332573e-01]\n",
            " [1.46755891e-01 9.23385948e-02 1.86260211e-01]]\n"
          ]
        }
      ]
    },
    {
      "cell_type": "code",
      "metadata": {
        "colab": {
          "base_uri": "https://localhost:8080/"
        },
        "id": "8RoYMFwGgk9P",
        "outputId": "a84e95d6-827e-4292-fb30-4fc27104063e"
      },
      "source": [
        "# standard normal distribution\n",
        "a = np.random.randn(2,3)\n",
        "print(a)"
      ],
      "execution_count": 17,
      "outputs": [
        {
          "output_type": "stream",
          "name": "stdout",
          "text": [
            "[[-1.10593508 -1.65451545 -2.3634686 ]\n",
            " [ 1.13534535 -1.01701414  0.63736181]]\n"
          ]
        }
      ]
    },
    {
      "cell_type": "code",
      "metadata": {
        "colab": {
          "base_uri": "https://localhost:8080/"
        },
        "id": "qC3lCr44gwU5",
        "outputId": "03ebedd8-27b2-4887-e4fa-53a429360a5d"
      },
      "source": [
        "a = np.random.randint(5,10,3)\n",
        "print(a)"
      ],
      "execution_count": 18,
      "outputs": [
        {
          "output_type": "stream",
          "name": "stdout",
          "text": [
            "[7 9 7]\n"
          ]
        }
      ]
    },
    {
      "cell_type": "code",
      "metadata": {
        "colab": {
          "base_uri": "https://localhost:8080/"
        },
        "id": "n3SChJnDg4pw",
        "outputId": "45b3dc7a-e1d7-40ee-e88e-1657a2e971e3"
      },
      "source": [
        "e = np.random.choice([1,2,4,7,11])\n",
        "print(e)"
      ],
      "execution_count": 19,
      "outputs": [
        {
          "output_type": "stream",
          "name": "stdout",
          "text": [
            "11\n"
          ]
        }
      ]
    },
    {
      "cell_type": "markdown",
      "metadata": {
        "id": "ATXmGUnQh14Y"
      },
      "source": [
        "### Statistical Operations"
      ]
    },
    {
      "cell_type": "code",
      "metadata": {
        "colab": {
          "base_uri": "https://localhost:8080/"
        },
        "id": "oNgcx0_xiSfT",
        "outputId": "718cb4ad-e943-471d-9197-2b3ef55d57a8"
      },
      "source": [
        "a = np.array([[1,2,3,4],[7,6,2,0]])\n",
        "print(a)"
      ],
      "execution_count": 20,
      "outputs": [
        {
          "output_type": "stream",
          "name": "stdout",
          "text": [
            "[[1 2 3 4]\n",
            " [7 6 2 0]]\n"
          ]
        }
      ]
    },
    {
      "cell_type": "code",
      "metadata": {
        "colab": {
          "base_uri": "https://localhost:8080/"
        },
        "id": "bErBXLMbierg",
        "outputId": "208eb6fd-2c6c-4fc4-b4d4-4b3303c09dfb"
      },
      "source": [
        "print(np.min(a))\n",
        "print(np.min(a, axis=0))\n",
        "print(np.min(a, axis=1))\n"
      ],
      "execution_count": 22,
      "outputs": [
        {
          "output_type": "stream",
          "name": "stdout",
          "text": [
            "0\n",
            "[1 2 2 0]\n",
            "[1 0]\n"
          ]
        }
      ]
    },
    {
      "cell_type": "code",
      "metadata": {
        "colab": {
          "base_uri": "https://localhost:8080/"
        },
        "id": "4PT0N1ufjKHL",
        "outputId": "2385f6e0-5fb8-4754-eb47-f2fc6c9507e0"
      },
      "source": [
        "print(np.mean(a, axis=1))\n",
        "print(np.median(a, axis=1))"
      ],
      "execution_count": 25,
      "outputs": [
        {
          "output_type": "stream",
          "name": "stdout",
          "text": [
            "[2.5  3.75]\n",
            "[2.5 4. ]\n"
          ]
        }
      ]
    },
    {
      "cell_type": "code",
      "metadata": {
        "colab": {
          "base_uri": "https://localhost:8080/"
        },
        "id": "3EquHU74ijqR",
        "outputId": "5beb9a35-1f1f-49aa-ab3d-fe2afcd33731"
      },
      "source": [
        "x = np.array([1,5,2,4,0])\n",
        "print(np.mean(x))\n",
        "print(np.median(x))"
      ],
      "execution_count": 29,
      "outputs": [
        {
          "output_type": "stream",
          "name": "stdout",
          "text": [
            "2.4\n",
            "2.0\n"
          ]
        }
      ]
    },
    {
      "cell_type": "code",
      "metadata": {
        "colab": {
          "base_uri": "https://localhost:8080/"
        },
        "id": "DezMwppLjHE4",
        "outputId": "5397e020-0ef9-43c2-fba2-d6f434fbeec4"
      },
      "source": [
        "w = np.array([1,2,3,4,5])\n",
        "print(np.average(x, weights=w))\n",
        "\n",
        "# => 1*1 + 5*2 + 2*3 + 4*4 + 0*5 / 5"
      ],
      "execution_count": 30,
      "outputs": [
        {
          "output_type": "stream",
          "name": "stdout",
          "text": [
            "2.2\n"
          ]
        }
      ]
    },
    {
      "cell_type": "code",
      "metadata": {
        "colab": {
          "base_uri": "https://localhost:8080/"
        },
        "id": "p8zA7kiwj3aJ",
        "outputId": "e648fa38-1e63-4645-8e42-4d4ef389a3a1"
      },
      "source": [
        "# standard deviation (sigma)\n",
        "\n",
        "u = np.mean(x)\n",
        "myStd = np.sqrt(np.mean(abs(x-u)**2))\n",
        "print(myStd)\n",
        "\n",
        "#inbuilt\n",
        "\n",
        "print(np.std(x))"
      ],
      "execution_count": 31,
      "outputs": [
        {
          "output_type": "stream",
          "name": "stdout",
          "text": [
            "1.854723699099141\n",
            "1.854723699099141\n"
          ]
        }
      ]
    },
    {
      "cell_type": "code",
      "metadata": {
        "colab": {
          "base_uri": "https://localhost:8080/"
        },
        "id": "R3hzqRJElD9T",
        "outputId": "7fe1ce8f-7cfb-4272-e14c-2cba14c4ea02"
      },
      "source": [
        "variance = myStd**2\n",
        "print(variance)"
      ],
      "execution_count": 32,
      "outputs": [
        {
          "output_type": "stream",
          "name": "stdout",
          "text": [
            "3.440000000000001\n"
          ]
        }
      ]
    },
    {
      "cell_type": "markdown",
      "metadata": {
        "id": "E0MSwIC5lJDG"
      },
      "source": [
        "<h3>Q. Given a running stream of numbers, compute mean and variance at any given point</h3>\n",
        "\n",
        "Solution :\n",
        "\n",
        "    Derrived formula => Variance = E(x^2) - [E(x)]^2\n",
        "    E is mean function\n",
        "\n",
        "\n",
        "Both variance and standard deviation are computed in O(1) time"
      ]
    },
    {
      "cell_type": "code",
      "metadata": {
        "colab": {
          "base_uri": "https://localhost:8080/"
        },
        "id": "umqwbqZ9nt_G",
        "outputId": "387d8d96-3ca2-439a-d3ee-e1e35436e02c"
      },
      "source": [
        "print(a)\n",
        "print(a.T) # transpose"
      ],
      "execution_count": 35,
      "outputs": [
        {
          "output_type": "stream",
          "name": "stdout",
          "text": [
            "[[1 2 3 4]\n",
            " [7 6 2 0]]\n",
            "[[1 7]\n",
            " [2 6]\n",
            " [3 2]\n",
            " [4 0]]\n"
          ]
        }
      ]
    },
    {
      "cell_type": "code",
      "metadata": {
        "colab": {
          "base_uri": "https://localhost:8080/"
        },
        "id": "mgxZgwXUrAWN",
        "outputId": "b4623629-285c-4f77-fdec-427a0b72a16e"
      },
      "source": [
        "a.ndim # number of dimensions"
      ],
      "execution_count": 37,
      "outputs": [
        {
          "output_type": "execute_result",
          "data": {
            "text/plain": [
              "2"
            ]
          },
          "metadata": {},
          "execution_count": 37
        }
      ]
    },
    {
      "cell_type": "code",
      "metadata": {
        "colab": {
          "base_uri": "https://localhost:8080/"
        },
        "id": "H1R4unKUrN66",
        "outputId": "344b02f5-a7d8-4336-b852-a2e6ce4a5f84"
      },
      "source": [
        "# linspace generates equally spaced given number of elements\n",
        "np.linspace(5, 10, 5) # generates 5 equally spaced elements within range 5 to 10"
      ],
      "execution_count": 39,
      "outputs": [
        {
          "output_type": "execute_result",
          "data": {
            "text/plain": [
              "array([ 5.  ,  6.25,  7.5 ,  8.75, 10.  ])"
            ]
          },
          "metadata": {},
          "execution_count": 39
        }
      ]
    },
    {
      "cell_type": "markdown",
      "metadata": {
        "id": "gkshS7BcoXao"
      },
      "source": [
        "### Important Links :\n",
        "\n",
        "- [Numpy Blog](https://docs.google.com/viewerng/viewer?url=https://minio.codingblocks.com/amoeba/233b69fe-3d85-42aa-bafb-9af0d319b98c.pdf)\n",
        "- [Dphi Numpy](https://dphi.tech/courses/introduction-to-numpy)"
      ]
    },
    {
      "cell_type": "markdown",
      "metadata": {
        "id": "h9GemaDTpVjt"
      },
      "source": [
        "### Practice"
      ]
    },
    {
      "cell_type": "code",
      "metadata": {
        "id": "rPZhR10rrs9A"
      },
      "source": [
        "a = np.array([2, 5, 8, 6, 4, 12, 16, 15])"
      ],
      "execution_count": 53,
      "outputs": []
    },
    {
      "cell_type": "code",
      "metadata": {
        "colab": {
          "base_uri": "https://localhost:8080/"
        },
        "id": "XjN-Sq80rwzo",
        "outputId": "3afa5f4f-c66b-4dfc-9b53-b91240efe902"
      },
      "source": [
        "print(a.ndim)"
      ],
      "execution_count": 42,
      "outputs": [
        {
          "output_type": "stream",
          "name": "stdout",
          "text": [
            "1\n"
          ]
        }
      ]
    },
    {
      "cell_type": "code",
      "metadata": {
        "colab": {
          "base_uri": "https://localhost:8080/"
        },
        "id": "uZ4aDqahr5pw",
        "outputId": "d7ab14a2-61e8-4f93-fe48-e7b40fff6b2e"
      },
      "source": [
        "print(np.linspace(17,31,50))"
      ],
      "execution_count": 43,
      "outputs": [
        {
          "output_type": "stream",
          "name": "stdout",
          "text": [
            "[17.         17.28571429 17.57142857 17.85714286 18.14285714 18.42857143\n",
            " 18.71428571 19.         19.28571429 19.57142857 19.85714286 20.14285714\n",
            " 20.42857143 20.71428571 21.         21.28571429 21.57142857 21.85714286\n",
            " 22.14285714 22.42857143 22.71428571 23.         23.28571429 23.57142857\n",
            " 23.85714286 24.14285714 24.42857143 24.71428571 25.         25.28571429\n",
            " 25.57142857 25.85714286 26.14285714 26.42857143 26.71428571 27.\n",
            " 27.28571429 27.57142857 27.85714286 28.14285714 28.42857143 28.71428571\n",
            " 29.         29.28571429 29.57142857 29.85714286 30.14285714 30.42857143\n",
            " 30.71428571 31.        ]\n"
          ]
        }
      ]
    },
    {
      "cell_type": "code",
      "metadata": {
        "colab": {
          "base_uri": "https://localhost:8080/"
        },
        "id": "RlVD1JDMsFBP",
        "outputId": "456ebeff-9769-452a-bca6-50df359178b2"
      },
      "source": [
        "print(a)\n",
        "a = np.append(a, 16)\n",
        "print(a)"
      ],
      "execution_count": 54,
      "outputs": [
        {
          "output_type": "stream",
          "name": "stdout",
          "text": [
            "[ 2  5  8  6  4 12 16 15]\n",
            "[ 2  5  8  6  4 12 16 15 16]\n"
          ]
        }
      ]
    },
    {
      "cell_type": "code",
      "metadata": {
        "colab": {
          "base_uri": "https://localhost:8080/"
        },
        "id": "RFuJruy7sTkM",
        "outputId": "28c14f52-9ca1-4d26-f946-890f7c2d1c8c"
      },
      "source": [
        "a = np.delete(a, 6)\n",
        "print(a)"
      ],
      "execution_count": 56,
      "outputs": [
        {
          "output_type": "stream",
          "name": "stdout",
          "text": [
            "[ 2  5  8  6  4 12 15 16]\n"
          ]
        }
      ]
    },
    {
      "cell_type": "code",
      "metadata": {
        "colab": {
          "base_uri": "https://localhost:8080/"
        },
        "id": "ztDemuHnuY7L",
        "outputId": "9550187f-adc4-4991-b29d-352e419de785"
      },
      "source": [
        "np.random.shuffle(a)\n",
        "print(a)"
      ],
      "execution_count": 61,
      "outputs": [
        {
          "output_type": "stream",
          "name": "stdout",
          "text": [
            "[ 5  8  6  2 15 16 12  4]\n"
          ]
        }
      ]
    },
    {
      "cell_type": "code",
      "metadata": {
        "colab": {
          "base_uri": "https://localhost:8080/"
        },
        "id": "ua7508Bwul1r",
        "outputId": "95836d58-e02a-46e2-de14-5ae1b779d9b2"
      },
      "source": [
        "a = np.sort(a)\n",
        "print(a)"
      ],
      "execution_count": 62,
      "outputs": [
        {
          "output_type": "stream",
          "name": "stdout",
          "text": [
            "[ 2  4  5  6  8 12 15 16]\n"
          ]
        }
      ]
    },
    {
      "cell_type": "code",
      "metadata": {
        "colab": {
          "base_uri": "https://localhost:8080/"
        },
        "id": "Er9EBcKZuwQ2",
        "outputId": "ef9ed5f0-c27f-4c95-a2b8-0527aa616503"
      },
      "source": [
        "a.reshape(2,-1)"
      ],
      "execution_count": 63,
      "outputs": [
        {
          "output_type": "execute_result",
          "data": {
            "text/plain": [
              "array([[ 2,  4,  5,  6],\n",
              "       [ 8, 12, 15, 16]])"
            ]
          },
          "metadata": {},
          "execution_count": 63
        }
      ]
    },
    {
      "cell_type": "code",
      "metadata": {
        "colab": {
          "base_uri": "https://localhost:8080/"
        },
        "id": "c69sK23fvHI9",
        "outputId": "865d4159-e899-432d-9dab-e7eac007c550"
      },
      "source": [
        "x = np.array( [10, 2, 7, 8, 3, 22, 54, 12, 13, 46, 23, 25, 41])\n",
        "z = np.sort(x)\n",
        "print(np.delete(z,4))\n"
      ],
      "execution_count": 72,
      "outputs": [
        {
          "output_type": "stream",
          "name": "stdout",
          "text": [
            "[ 2  3  7  8 12 13 22 23 25 41 46 54]\n"
          ]
        }
      ]
    },
    {
      "cell_type": "code",
      "metadata": {
        "colab": {
          "base_uri": "https://localhost:8080/"
        },
        "id": "W_17Qxxzvnq_",
        "outputId": "f6262535-6df9-4a9e-f460-cf14e0719de2"
      },
      "source": [
        "x = np.append(x, 53)\n",
        "x.reshape(2,7)"
      ],
      "execution_count": 71,
      "outputs": [
        {
          "output_type": "execute_result",
          "data": {
            "text/plain": [
              "array([[10,  2,  7,  8,  3, 22, 54],\n",
              "       [12, 13, 46, 23, 25, 41, 53]])"
            ]
          },
          "metadata": {},
          "execution_count": 71
        }
      ]
    },
    {
      "cell_type": "code",
      "metadata": {
        "colab": {
          "base_uri": "https://localhost:8080/"
        },
        "id": "waVXjzvTwBMO",
        "outputId": "b2021412-936a-4d26-d5a6-0e7b398e09c7"
      },
      "source": [
        "x = np.random.randint(1, 100, (8,5))\n",
        "print(x)"
      ],
      "execution_count": 77,
      "outputs": [
        {
          "output_type": "stream",
          "name": "stdout",
          "text": [
            "[[58 83 97 14 11]\n",
            " [24 82  8 25 75]\n",
            " [93 21 33 13 66]\n",
            " [95 61 25 83 98]\n",
            " [ 3 93 99 11 55]\n",
            " [97 83 87 71 67]\n",
            " [72 49 55 16  6]\n",
            " [18 43 21 49 23]]\n"
          ]
        }
      ]
    },
    {
      "cell_type": "code",
      "metadata": {
        "colab": {
          "base_uri": "https://localhost:8080/"
        },
        "id": "2D4FAZ30w_jA",
        "outputId": "007f6aa2-eee7-4253-f912-a43177889bce"
      },
      "source": [
        "print(x[0:5:2]) #striding"
      ],
      "execution_count": 81,
      "outputs": [
        {
          "output_type": "stream",
          "name": "stdout",
          "text": [
            "[[58 83 97 14 11]\n",
            " [93 21 33 13 66]\n",
            " [ 3 93 99 11 55]]\n"
          ]
        }
      ]
    },
    {
      "cell_type": "code",
      "metadata": {
        "colab": {
          "base_uri": "https://localhost:8080/"
        },
        "id": "9Y_8hbQMxRT4",
        "outputId": "e4881963-6126-489a-fb34-51ef5f71a9fd"
      },
      "source": [
        "x = np.arange(25)\n",
        "x = np.reshape(x,(5,5))\n",
        "print(x)"
      ],
      "execution_count": 83,
      "outputs": [
        {
          "output_type": "stream",
          "name": "stdout",
          "text": [
            "[[ 0  1  2  3  4]\n",
            " [ 5  6  7  8  9]\n",
            " [10 11 12 13 14]\n",
            " [15 16 17 18 19]\n",
            " [20 21 22 23 24]]\n"
          ]
        }
      ]
    },
    {
      "cell_type": "code",
      "metadata": {
        "colab": {
          "base_uri": "https://localhost:8080/"
        },
        "id": "CuKhxQrNx15q",
        "outputId": "048499c6-7486-4288-b168-d9fce3d22f49"
      },
      "source": [
        "x[1::2, 0::2]"
      ],
      "execution_count": 89,
      "outputs": [
        {
          "output_type": "execute_result",
          "data": {
            "text/plain": [
              "array([[ 5,  7,  9],\n",
              "       [15, 17, 19]])"
            ]
          },
          "metadata": {},
          "execution_count": 89
        }
      ]
    },
    {
      "cell_type": "code",
      "metadata": {
        "id": "X8BpXR3iyLdx"
      },
      "source": [
        ""
      ],
      "execution_count": null,
      "outputs": []
    }
  ]
}