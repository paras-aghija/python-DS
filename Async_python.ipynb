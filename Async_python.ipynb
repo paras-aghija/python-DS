{
  "nbformat": 4,
  "nbformat_minor": 0,
  "metadata": {
    "colab": {
      "name": "Async-python",
      "provenance": [],
      "collapsed_sections": [],
      "authorship_tag": "ABX9TyPYEkvnjP6KNv4+4o9sJGSJ",
      "include_colab_link": true
    },
    "kernelspec": {
      "name": "python3",
      "display_name": "Python 3"
    },
    "language_info": {
      "name": "python"
    }
  },
  "cells": [
    {
      "cell_type": "markdown",
      "metadata": {
        "id": "view-in-github",
        "colab_type": "text"
      },
      "source": [
        "<a href=\"https://colab.research.google.com/github/paras-aghija/python-DS/blob/main/Async_python.ipynb\" target=\"_parent\"><img src=\"https://colab.research.google.com/assets/colab-badge.svg\" alt=\"Open In Colab\"/></a>"
      ]
    },
    {
      "cell_type": "markdown",
      "metadata": {
        "id": "Wc2fAou0ioyB"
      },
      "source": [
        ""
      ]
    },
    {
      "cell_type": "markdown",
      "metadata": {
        "id": "GmuadShHj1em"
      },
      "source": [
        "# ASYNCHRONOUS PYTHON"
      ]
    },
    {
      "cell_type": "markdown",
      "metadata": {
        "id": "kKYTB2aAllJ5"
      },
      "source": [
        "<h2>Methods to perform async-operations in python</h2>\n",
        "\n",
        "    - Multi-processing\n",
        "    - Multi-Threading\n",
        "    - Co-routines\n",
        "    - AsyncIO (Co routines)"
      ]
    },
    {
      "cell_type": "markdown",
      "metadata": {
        "id": "ivcaFB09VrvP"
      },
      "source": [
        "### Multi processes"
      ]
    },
    {
      "cell_type": "code",
      "metadata": {
        "id": "-sZXrhvcXhY7"
      },
      "source": [
        "from multiprocessing import Process"
      ],
      "execution_count": null,
      "outputs": []
    },
    {
      "cell_type": "code",
      "metadata": {
        "id": "2RReKvO0XuZz"
      },
      "source": [
        "def sqr(num = 2):\n",
        "    print(num**2)"
      ],
      "execution_count": null,
      "outputs": []
    },
    {
      "cell_type": "code",
      "metadata": {
        "id": "WScxsnE3Yc5y"
      },
      "source": [
        "procs = []"
      ],
      "execution_count": null,
      "outputs": []
    },
    {
      "cell_type": "code",
      "metadata": {
        "id": "aHptcFTGYnac"
      },
      "source": [
        "for i in range(5):\n",
        "    procs.append(Process(target = sqr))"
      ],
      "execution_count": null,
      "outputs": []
    },
    {
      "cell_type": "code",
      "metadata": {
        "colab": {
          "base_uri": "https://localhost:8080/"
        },
        "id": "x8ALCQ1hYsFl",
        "outputId": "7fa74ebe-e00b-4a50-a9fe-21e2c1ce7644"
      },
      "source": [
        "print(procs)"
      ],
      "execution_count": null,
      "outputs": [
        {
          "output_type": "stream",
          "name": "stdout",
          "text": [
            "[<Process(Process-12, initial)>, <Process(Process-13, initial)>, <Process(Process-14, initial)>, <Process(Process-15, initial)>, <Process(Process-16, initial)>]\n"
          ]
        }
      ]
    },
    {
      "cell_type": "code",
      "metadata": {
        "colab": {
          "base_uri": "https://localhost:8080/"
        },
        "id": "iMW1pn7FY3xA",
        "outputId": "8dc18191-4a7b-44bb-990c-7e2f1127012d"
      },
      "source": [
        "for proc in procs:\n",
        "    proc.start()\n",
        "\n",
        "print(\"Hello\")"
      ],
      "execution_count": null,
      "outputs": [
        {
          "output_type": "stream",
          "name": "stdout",
          "text": [
            "4\n",
            "4\n",
            "Hello\n",
            "4\n",
            "4\n",
            "4\n"
          ]
        }
      ]
    },
    {
      "cell_type": "markdown",
      "metadata": {
        "id": "bYS3MSSqZPV8"
      },
      "source": [
        "Hello can execute at any time as 5 processes run parallelly"
      ]
    },
    {
      "cell_type": "code",
      "metadata": {
        "id": "En6f-5o6Y-b2"
      },
      "source": [
        "for proc in procs:\n",
        "    proc.join();"
      ],
      "execution_count": null,
      "outputs": []
    },
    {
      "cell_type": "code",
      "metadata": {
        "colab": {
          "base_uri": "https://localhost:8080/"
        },
        "id": "L6wHvJpdZIun",
        "outputId": "3fa77b1c-6ad4-43e2-e99c-e4929199b35b"
      },
      "source": [
        "! ps aux | grep python"
      ],
      "execution_count": null,
      "outputs": [
        {
          "output_type": "stream",
          "name": "stdout",
          "text": [
            "root          39  0.0  0.3 160352 41752 ?        S    11:09   0:00 python3 /usr/local/bin/colab-fileshim.py\n",
            "root          52  0.3  0.4 193896 60524 ?        Sl   11:09   0:03 /usr/bin/python2 /usr/local/bin/jupyter-notebook --ip=\"172.28.0.2\" --port=9000 --FileContentsManager.root_dir=\"/\" --MappingKernelManager.root_dir=\"/content\"\n",
            "root          63  0.7  1.1 767236 153944 ?       Ssl  11:09   0:08 /usr/bin/python3 -m ipykernel_launcher -f /root/.local/share/jupyter/runtime/kernel-9ffa0081-3864-4d81-acd1-7a3c6e79885d.json\n",
            "root          83  0.0  0.1 127640 14860 ?        Sl   11:09   0:00 /usr/bin/python3 /usr/local/lib/python3.7/dist-packages/debugpy/adapter --for-server 44169 --host 127.0.0.1 --port 16569 --server-access-token 0a19ac6e5b14e0f8fc74db04993f50ca7a6fc071e1924f3d72e451e216aeb1cb\n",
            "root         347  0.0  0.0  39196  6532 ?        S    11:28   0:00 /bin/bash -c  ps aux | grep python\n",
            "root         349  0.0  0.0  27856  1140 ?        R    11:28   0:00 grep python\n"
          ]
        }
      ]
    },
    {
      "cell_type": "markdown",
      "metadata": {
        "id": "8zXtFJJKZ75s"
      },
      "source": [
        "### Multi Threading"
      ]
    },
    {
      "cell_type": "code",
      "metadata": {
        "id": "i2MviFTCaIMp"
      },
      "source": [
        "from threading import Thread"
      ],
      "execution_count": null,
      "outputs": []
    },
    {
      "cell_type": "code",
      "metadata": {
        "id": "QWHeqnoyaVce"
      },
      "source": [
        "def square(n):\n",
        "    print(\"square is\", n**2)\n",
        "\n",
        "def cube(n):\n",
        "    print(\"cube is\", n**3)"
      ],
      "execution_count": null,
      "outputs": []
    },
    {
      "cell_type": "code",
      "metadata": {
        "id": "U5yin-Z6cX5H"
      },
      "source": [
        "t1 = Thread(target=square, args=(4,))\n",
        "t2 = Thread(target=cube, args=(3,))"
      ],
      "execution_count": null,
      "outputs": []
    },
    {
      "cell_type": "code",
      "metadata": {
        "colab": {
          "base_uri": "https://localhost:8080/"
        },
        "id": "jXKbGCaecnEr",
        "outputId": "65e1632c-f262-4470-90cd-2fc2f501fdb0"
      },
      "source": [
        "t1.start()\n",
        "t2.start()\n",
        "print(\"Hello\")"
      ],
      "execution_count": null,
      "outputs": [
        {
          "output_type": "stream",
          "name": "stdout",
          "text": [
            "square is 16\n",
            "cube isHello\n",
            " 27\n"
          ]
        }
      ]
    },
    {
      "cell_type": "markdown",
      "metadata": {
        "id": "AqWMM89wcwng"
      },
      "source": [
        "Hello is comming in between which means our functions are executing asynchronously"
      ]
    },
    {
      "cell_type": "code",
      "metadata": {
        "id": "VHoQ0-FicrDk"
      },
      "source": [
        "t1.join()\n",
        "t2.join()"
      ],
      "execution_count": null,
      "outputs": []
    },
    {
      "cell_type": "markdown",
      "metadata": {
        "id": "-zV2VxPUdB01"
      },
      "source": [
        "join is a synchronous method which acts as a blocking code and wait for the threads execution to complete"
      ]
    },
    {
      "cell_type": "code",
      "metadata": {
        "id": "fVQjgAMldPSa"
      },
      "source": [
        "from queue import Queue"
      ],
      "execution_count": null,
      "outputs": []
    },
    {
      "cell_type": "code",
      "metadata": {
        "id": "p09kkLlSdTBH"
      },
      "source": [
        "def producer(q):\n",
        "    for i in range(5):\n",
        "        q.put(i)\n",
        "        print(\"published\", i)\n",
        "\n",
        "def consumer(q):\n",
        "    while True:\n",
        "        data = q.get()\n",
        "        print(\"consumed\", data)"
      ],
      "execution_count": null,
      "outputs": []
    },
    {
      "cell_type": "code",
      "metadata": {
        "id": "bxxIdhgAeIAw"
      },
      "source": [
        "q = Queue()"
      ],
      "execution_count": null,
      "outputs": []
    },
    {
      "cell_type": "code",
      "metadata": {
        "id": "RzHFKqn5eK1K"
      },
      "source": [
        "producer_thread = Thread(target=producer, args=(q,))\n",
        "consumer_thread = Thread(target=consumer, args=(q,))"
      ],
      "execution_count": null,
      "outputs": []
    },
    {
      "cell_type": "code",
      "metadata": {
        "id": "mW39KjpUeZ9V"
      },
      "source": [
        "consumer_thread.start()"
      ],
      "execution_count": null,
      "outputs": []
    },
    {
      "cell_type": "code",
      "metadata": {
        "colab": {
          "base_uri": "https://localhost:8080/"
        },
        "id": "pUoYh4h8efYM",
        "outputId": "92cc32eb-94e7-480f-c076-9acbc45a48a9"
      },
      "source": [
        "producer_thread.start()"
      ],
      "execution_count": null,
      "outputs": [
        {
          "output_type": "stream",
          "name": "stdout",
          "text": [
            "published 0\n",
            "consumed 0\n",
            "published 1\n",
            "published 2\n",
            "consumed 1\n",
            "consumed 2\n",
            "published 3\n",
            "consumed published3\n",
            "consumed  4\n",
            "4\n"
          ]
        }
      ]
    },
    {
      "cell_type": "markdown",
      "metadata": {
        "id": "u5ZO8-h8elSt"
      },
      "source": [
        "The consumer and producer threads were running simultaneously, in a multi threaded asynchronous manner}"
      ]
    },
    {
      "cell_type": "code",
      "metadata": {
        "id": "Sw0_xl39e1xc"
      },
      "source": [
        "producer_thread.join()"
      ],
      "execution_count": null,
      "outputs": []
    },
    {
      "cell_type": "code",
      "metadata": {
        "colab": {
          "base_uri": "https://localhost:8080/",
          "height": 316
        },
        "id": "Urs9GMU4e9q8",
        "outputId": "ad618415-a49c-46df-c61d-de6ce2b6bc38"
      },
      "source": [
        "consumer_thread.join()"
      ],
      "execution_count": null,
      "outputs": [
        {
          "output_type": "error",
          "ename": "KeyboardInterrupt",
          "evalue": "ignored",
          "traceback": [
            "\u001b[0;31m---------------------------------------------------------------------------\u001b[0m",
            "\u001b[0;31mKeyboardInterrupt\u001b[0m                         Traceback (most recent call last)",
            "\u001b[0;32m<ipython-input-45-3a7cccfd976e>\u001b[0m in \u001b[0;36m<module>\u001b[0;34m()\u001b[0m\n\u001b[0;32m----> 1\u001b[0;31m \u001b[0mconsumer_thread\u001b[0m\u001b[0;34m.\u001b[0m\u001b[0mjoin\u001b[0m\u001b[0;34m(\u001b[0m\u001b[0;34m)\u001b[0m\u001b[0;34m\u001b[0m\u001b[0;34m\u001b[0m\u001b[0m\n\u001b[0m",
            "\u001b[0;32m/usr/lib/python3.7/threading.py\u001b[0m in \u001b[0;36mjoin\u001b[0;34m(self, timeout)\u001b[0m\n\u001b[1;32m   1042\u001b[0m \u001b[0;34m\u001b[0m\u001b[0m\n\u001b[1;32m   1043\u001b[0m         \u001b[0;32mif\u001b[0m \u001b[0mtimeout\u001b[0m \u001b[0;32mis\u001b[0m \u001b[0;32mNone\u001b[0m\u001b[0;34m:\u001b[0m\u001b[0;34m\u001b[0m\u001b[0;34m\u001b[0m\u001b[0m\n\u001b[0;32m-> 1044\u001b[0;31m             \u001b[0mself\u001b[0m\u001b[0;34m.\u001b[0m\u001b[0m_wait_for_tstate_lock\u001b[0m\u001b[0;34m(\u001b[0m\u001b[0;34m)\u001b[0m\u001b[0;34m\u001b[0m\u001b[0;34m\u001b[0m\u001b[0m\n\u001b[0m\u001b[1;32m   1045\u001b[0m         \u001b[0;32melse\u001b[0m\u001b[0;34m:\u001b[0m\u001b[0;34m\u001b[0m\u001b[0;34m\u001b[0m\u001b[0m\n\u001b[1;32m   1046\u001b[0m             \u001b[0;31m# the behavior of a negative timeout isn't documented, but\u001b[0m\u001b[0;34m\u001b[0m\u001b[0;34m\u001b[0m\u001b[0;34m\u001b[0m\u001b[0m\n",
            "\u001b[0;32m/usr/lib/python3.7/threading.py\u001b[0m in \u001b[0;36m_wait_for_tstate_lock\u001b[0;34m(self, block, timeout)\u001b[0m\n\u001b[1;32m   1058\u001b[0m         \u001b[0;32mif\u001b[0m \u001b[0mlock\u001b[0m \u001b[0;32mis\u001b[0m \u001b[0;32mNone\u001b[0m\u001b[0;34m:\u001b[0m  \u001b[0;31m# already determined that the C code is done\u001b[0m\u001b[0;34m\u001b[0m\u001b[0;34m\u001b[0m\u001b[0m\n\u001b[1;32m   1059\u001b[0m             \u001b[0;32massert\u001b[0m \u001b[0mself\u001b[0m\u001b[0;34m.\u001b[0m\u001b[0m_is_stopped\u001b[0m\u001b[0;34m\u001b[0m\u001b[0;34m\u001b[0m\u001b[0m\n\u001b[0;32m-> 1060\u001b[0;31m         \u001b[0;32melif\u001b[0m \u001b[0mlock\u001b[0m\u001b[0;34m.\u001b[0m\u001b[0macquire\u001b[0m\u001b[0;34m(\u001b[0m\u001b[0mblock\u001b[0m\u001b[0;34m,\u001b[0m \u001b[0mtimeout\u001b[0m\u001b[0;34m)\u001b[0m\u001b[0;34m:\u001b[0m\u001b[0;34m\u001b[0m\u001b[0;34m\u001b[0m\u001b[0m\n\u001b[0m\u001b[1;32m   1061\u001b[0m             \u001b[0mlock\u001b[0m\u001b[0;34m.\u001b[0m\u001b[0mrelease\u001b[0m\u001b[0;34m(\u001b[0m\u001b[0;34m)\u001b[0m\u001b[0;34m\u001b[0m\u001b[0;34m\u001b[0m\u001b[0m\n\u001b[1;32m   1062\u001b[0m             \u001b[0mself\u001b[0m\u001b[0;34m.\u001b[0m\u001b[0m_stop\u001b[0m\u001b[0;34m(\u001b[0m\u001b[0;34m)\u001b[0m\u001b[0;34m\u001b[0m\u001b[0;34m\u001b[0m\u001b[0m\n",
            "\u001b[0;31mKeyboardInterrupt\u001b[0m: "
          ]
        }
      ]
    },
    {
      "cell_type": "markdown",
      "metadata": {
        "id": "KVOqdWr0e_9A"
      },
      "source": [
        "since consumer thread had an infinite loop it will keep running and join will keep waiting as thread will not end"
      ]
    },
    {
      "cell_type": "code",
      "metadata": {
        "id": "LwvBKfvXfO9l"
      },
      "source": [
        ""
      ],
      "execution_count": null,
      "outputs": []
    }
  ]
}